{
 "cells": [
  {
   "cell_type": "code",
   "execution_count": 49,
   "id": "1d699c11-c0d5-4a0d-a00c-4d6499cee4fc",
   "metadata": {},
   "outputs": [],
   "source": [
    "import os\n",
    "import requests\n",
    "from dotenv import load_dotenv\n",
    "from bs4 import BeautifulSoup\n",
    "from IPython.display import Markdown, display, update_display\n",
    "from openai import OpenAI\n",
    "\n",
    "import selenium\n",
    "from selenium import webdriver\n",
    "from selenium.webdriver.chrome.options import Options as ChromeOptions\n",
    "\n",
    "import ollama\n",
    "\n",
    "from pydantic import BaseModel\n",
    "from typing import List, Tuple, Dict"
   ]
  },
  {
   "cell_type": "code",
   "execution_count": 12,
   "id": "76913c76-1c52-48c4-9ae3-85c84c1423c6",
   "metadata": {},
   "outputs": [],
   "source": [
    "load_dotenv()\n",
    "api_key = os.getenv('OPENAI_API_KEY')\n",
    "client = OpenAI(api_key = api_key)\n",
    "\n",
    "service = webdriver.ChromeService(executable_path = \"C:\\\\Program Files\\\\chromedriver-win64\\\\chromedriver.exe\")\n",
    "# so webpage won't pop up, better performance\n",
    "chrome_options = ChromeOptions()\n",
    "chrome_options.add_argument(\"--headless\")\n",
    "\n",
    "MODEL = 'gpt-4o-mini'"
   ]
  },
  {
   "cell_type": "markdown",
   "id": "262c0659-35c8-4133-be6a-29b15082d28c",
   "metadata": {},
   "source": [
    "### 1 - define website object\n",
    "- stores essential messages\n",
    "- uses selenium, also scrapes links"
   ]
  },
  {
   "cell_type": "code",
   "execution_count": 3,
   "id": "498349ae-7b6a-4d82-bb8c-b79e6832a94d",
   "metadata": {},
   "outputs": [],
   "source": [
    "class Website:\n",
    "    def __init__(self, url):\n",
    "        self.url = url\n",
    "        response = self._scrape()\n",
    "        soup = BeautifulSoup(response, 'html.parser')\n",
    "        self.title = soup.title.string if soup.title else \"No Title Found\"\n",
    "        for irrelevant in soup.body(['script', 'style', 'img', 'input']):\n",
    "            irrelevant.decompose()\n",
    "        self.text = soup.body.get_text(separator = '\\n', strip = True)\n",
    "        links = [link.get('href') for link in soup.find_all('a')]\n",
    "        self.links = [link for link in links if link and link[:4] == 'http']\n",
    "\n",
    "    def _scrape(self) -> str:\n",
    "        driver = webdriver.Chrome(service=service, options=chrome_options)\n",
    "        driver.get(self.url)\n",
    "        driver.implicitly_wait(0.001)\n",
    "        page = driver.page_source\n",
    "        driver.close()\n",
    "        return page\n",
    "\n",
    "    def get_content(self):\n",
    "        return f\"Webpage Title: \\n{self.title}\\nWebpage Contents: \\n{self.text}\\n\\n\" "
   ]
  },
  {
   "cell_type": "code",
   "execution_count": 14,
   "id": "116a9e8b-7c23-457d-8578-4f8290d980ce",
   "metadata": {},
   "outputs": [
    {
     "name": "stdout",
     "output_type": "stream",
     "text": [
      "['https://docs.pinecone.io', 'https://app.pinecone.io/?sessionType=login', 'https://app.pinecone.io/?sessionType=signup', 'https://app.pinecone.io/', 'https://docs.pinecone.io/docs/get-started/overview', 'https://docs.pinecone.io/models/overview', 'https://docs.pinecone.io/reference/architecture/serverless-architecture', 'https://docs.pinecone.io/guides/data/query-data#filter-by-metadata', 'https://docs.pinecone.io/reference/architecture/serverless-architecture', 'https://docs.pinecone.io/guides/indexes/understanding-indexes#sparse-indexes', 'https://docs.pinecone.io/guides/inference/rerank', 'https://docs.pinecone.io/guides/inference/rerank', 'https://docs.pinecone.io/guides/indexes/implement-multitenancy', 'https://docs.pinecone.io/guides/indexes/implement-multitenancy', 'https://docs.pinecone.io/integrations/overview', 'https://app.pinecone.io/', 'https://x.com/pinecone', 'https://www.linkedin.com/company/pinecone-io', 'https://www.youtube.com/@pinecone-io', 'https://github.com/pinecone-io', 'https://docs.pinecone.io/', 'https://community.pinecone.io/', 'https://status.pinecone.io/']\n"
     ]
    }
   ],
   "source": [
    "ed = Website('https://www.pinecone.io/')\n",
    "print(ed.links)"
   ]
  },
  {
   "cell_type": "markdown",
   "id": "81c55562-a805-42f5-8080-3413796dd05a",
   "metadata": {},
   "source": [
    "### 2 - gpt-4o-mini identify relevant links "
   ]
  },
  {
   "cell_type": "code",
   "execution_count": null,
   "id": "c645ffee-330b-41f0-8bd8-2979555d8b4e",
   "metadata": {},
   "outputs": [],
   "source": [
    "class Link(BaseModel):\n",
    "    link_type: str\n",
    "    url: str\n",
    "\n",
    "class Links(BaseModel):\n",
    "    links: List[Link]"
   ]
  },
  {
   "cell_type": "code",
   "execution_count": 63,
   "id": "70bae8cd-acf7-4f0e-8593-a5fc93419c91",
   "metadata": {},
   "outputs": [],
   "source": [
    "link_system_prompt = \"\"\"You are provided with a list of links found on a webpage. \n",
    "You are able to decide which of the links would be most relevant to include in a brochure about the company, \n",
    "such as links to an About page, or a Company page, or Careers/Jobs pages.\n",
    "You should respond in JSON like in the following examples:\n",
    "<example1>\n",
    "{\n",
    "    \"links\": [\n",
    "        {\"link_type\": \"about page\", \"url\": \"https://full.url/goes/here/about\"},\n",
    "        {\"link_type\": \"careers page\", \"url\": \"https://another.full.url/careers\"}\n",
    "    ]\n",
    "}\n",
    "</example1>\n",
    "\n",
    "<example2>\n",
    "{\n",
    "    \"links\": [\n",
    "        {\"link_type\": \"community\", \"url\": \"https://full.url/community\"},\n",
    "        {\"link_type\": \"background\", \"url\": \"https://another.full.url/background\"},\n",
    "        {\"link_type\": \"team\", \"url\": \"https://another.full.url/members/team\"}\n",
    "    ]\n",
    "}\n",
    "</example2>\n",
    "\"\"\""
   ]
  },
  {
   "cell_type": "code",
   "execution_count": 28,
   "id": "1ff5976e-b119-4d72-bea5-dbc4fc4eb5d2",
   "metadata": {},
   "outputs": [],
   "source": [
    "def link_user_prompt(website: Website):\n",
    "    user_prompt = f\"Here is the list of links on the website of {website.url} - \"\n",
    "    user_prompt += \"please decide which of these are relevant web links for a brochure about the company, respond with the full https URL in JSON format. \\\n",
    "Do not include Terms of Service, Privacy, email links.\\n\"\n",
    "    user_prompt += \"Links (some might be relative links):\\n\"\n",
    "    user_prompt += \"\\n\".join(website.links)\n",
    "    return user_prompt\n",
    "\n",
    "def get_links(website: Website):\n",
    "    completion = client.beta.chat.completions.parse(\n",
    "        model = MODEL,\n",
    "        messages = [\n",
    "            {\"role\": \"system\", \"content\": link_system_prompt},\n",
    "            {\"role\": \"system\", \"content\": link_user_prompt(website)}\n",
    "        ], \n",
    "        response_format = Links\n",
    "    )\n",
    "    \n",
    "    response = completion.choices[0].message\n",
    "    links = response.parsed\n",
    "    return links"
   ]
  },
  {
   "cell_type": "code",
   "execution_count": 29,
   "id": "53acf10e-7538-4462-85db-afc92bf08c38",
   "metadata": {},
   "outputs": [
    {
     "name": "stdout",
     "output_type": "stream",
     "text": [
      "links=[Link(link_type='company page', url='https://www.anthropic.com/company'), Link(link_type='about page', url='https://www.anthropic.com/team'), Link(link_type='careers page', url='https://www.anthropic.com/careers'), Link(link_type='news page', url='https://www.anthropic.com/news'), Link(link_type='contact sales page', url='https://www.anthropic.com/contact-sales'), Link(link_type='events page', url='https://www.anthropic.com/events'), Link(link_type='learn page', url='https://www.anthropic.com/learn')]\n",
      "https://www.anthropic.com/company\n",
      "https://www.anthropic.com/team\n",
      "https://www.anthropic.com/careers\n",
      "https://www.anthropic.com/news\n",
      "https://www.anthropic.com/contact-sales\n",
      "https://www.anthropic.com/events\n",
      "https://www.anthropic.com/learn\n"
     ]
    }
   ],
   "source": [
    "web = Website('https:/anthropic.com')\n",
    "res = get_links(web)\n",
    "print(res)\n",
    "for link in res.links:\n",
    "    print(link.url)"
   ]
  },
  {
   "cell_type": "markdown",
   "id": "85f7449f-5aea-426e-a4df-41412cb272ec",
   "metadata": {},
   "source": [
    "### 3 - gather all details and deploy"
   ]
  },
  {
   "cell_type": "code",
   "execution_count": 35,
   "id": "287a0bcf-972a-4c06-b0b8-0925204a145e",
   "metadata": {},
   "outputs": [],
   "source": [
    "def get_web_details(url):\n",
    "    result = \"Landing page: \\n<landing_page>\\n\"\n",
    "    website = Website(url)\n",
    "    result += website.get_content()\n",
    "    result += '\\n</landing_page>'\n",
    "    links = get_links(website)\n",
    "    print(\"Found links:\", links.links)\n",
    "    for link in links.links:\n",
    "        result += f\"\\n\\n{link.link_type}: \\n<{link.link_type}>\\n\"\n",
    "        result += Website(link.url).get_content()\n",
    "        result += f\"\\n</{link.link_type}_page>\\n\"\n",
    "    return result"
   ]
  },
  {
   "cell_type": "code",
   "execution_count": 36,
   "id": "04465365-fdf4-4116-ae60-36cd84208622",
   "metadata": {},
   "outputs": [
    {
     "name": "stdout",
     "output_type": "stream",
     "text": [
      "Found links: [Link(link_type='about page', url='https://www.anthropic.com/company'), Link(link_type='careers page', url='https://www.anthropic.com/careers'), Link(link_type='team page', url='https://www.anthropic.com/team')]\n",
      "Landing page: \n",
      "<landing_page>\n",
      "Webpage Title: \n",
      "Home \\ Anthropic\n",
      "Webpage Contents: \n",
      "Skip to main conte\n"
     ]
    }
   ],
   "source": [
    "details = get_web_details('https:/anthropic.com')\n",
    "print(details[:100])"
   ]
  },
  {
   "cell_type": "code",
   "execution_count": 46,
   "id": "c2a423d3-7c3e-4d06-bc3b-bd04188ecc7a",
   "metadata": {},
   "outputs": [],
   "source": [
    "system_prompt = \"You are an assistant that analyzes the contents of several relevant pages from a company website \\\n",
    "and creates a short brochure about the company for prospective customers, investors and recruits. Respond in markdown.\\\n",
    "Include details of company culture, customers and careers/jobs if you have the information.\"\n",
    "\n",
    "def get_brochure_user_prompt(company_name, url):\n",
    "    user_prompt = f\"You are looking at a company called: {company_name}\\n\"\n",
    "    user_prompt += f\"Here are the contents of its landing page and other relevant pages; use this information to build a short brochure of the company in markdown.\\n\\n\"\n",
    "    user_prompt += get_web_details(url)\n",
    "    user_prompt = user_prompt[:20_000] # Truncate if more than 5,000 characters\n",
    "    return user_prompt\n",
    "\n",
    "# get_brochure_user_prompt('Anthropic', 'https:/anthropic.com')"
   ]
  },
  {
   "cell_type": "code",
   "execution_count": 70,
   "id": "2edb4cc4-226d-4d4a-a0a2-432bf6e33bf6",
   "metadata": {},
   "outputs": [],
   "source": [
    "def create_brochure(company_name, url):\n",
    "    response = client.chat.completions.create(\n",
    "        model = MODEL,\n",
    "        messages = [\n",
    "            {\"role\": \"system\", \"content\": system_prompt}, \n",
    "            {\"role\": \"user\", \"content\": get_brochure_user_prompt(company_name, url)}\n",
    "        ]\n",
    "    )\n",
    "    result = response.choices[0].message.content.replace(\"```\", \"\").replace(\"markdown\", \"\")\n",
    "\n",
    "    response2 = client.chat.completions.create(\n",
    "        model = MODEL,\n",
    "        messages = [\n",
    "            {\"role\": \"system\", \"content\": \"You are a helpful translator. Translate the following text to Spanish. Keep Markdown format.\"}, \n",
    "            {\"role\": \"user\", \"content\": f\"<text>\\n{result}\\n</text>\"}\n",
    "        ]\n",
    "    )\n",
    "    result_spanish = response2.choices[0].message.content.replace(\"```\", \"\").replace(\"markdown\", \"\")\n",
    "    display(Markdown(result + '\\n\\n---\\n\\n' + result_spanish))\n",
    "    return result, result_spanish"
   ]
  },
  {
   "cell_type": "code",
   "execution_count": 72,
   "id": "e2dccecf-ddc6-4f94-8f39-2f02c32e9234",
   "metadata": {
    "scrolled": true
   },
   "outputs": [
    {
     "name": "stdout",
     "output_type": "stream",
     "text": [
      "Found links: [Link(link_type='company', url='https://www.anthropic.com/company'), Link(link_type='careers page', url='https://www.anthropic.com/careers'), Link(link_type='team', url='https://www.anthropic.com/team'), Link(link_type='news', url='https://www.anthropic.com/news'), Link(link_type='learn', url='https://www.anthropic.com/learn'), Link(link_type='customers', url='https://www.anthropic.com/customers'), Link(link_type='research', url='https://www.anthropic.com/research'), Link(link_type='events', url='https://www.anthropic.com/events')]\n"
     ]
    },
    {
     "data": {
      "text/markdown": [
       "\n",
       "# Anthropic: Pioneers in Safety-Driven AI\n",
       "\n",
       "## Overview\n",
       "Anthropic is an AI safety and research company based in San Francisco, dedicated to building reliable, interpretable, and steerable AI systems. Our mission is to ensure that AI technologies become a robustly positive force for humanity while understanding and mitigating the potential risks involved.\n",
       "\n",
       "## Our Products\n",
       "### Meet Claude\n",
       "Claude is our flagship AI model family, designed to facilitate various applications ranging from customer support to education. With models like Claude Opus 4 and Claude Sonnet 4, we provide cutting-edge tools geared toward enhancing productivity and creativity across numerous sectors.\n",
       "\n",
       "### Solutions\n",
       "- **AI Agents**: Automate tasks with intelligent agents.\n",
       "- **Coding Assistance**: Simplify coding with our AI tools.\n",
       "- **Educational Resources**: Enhance learning experiences.\n",
       "\n",
       "## Commitment to Safety\n",
       "At Anthropic, we treat AI safety as a science. Our daily research emphasizes responsible scaling and transparency, ensuring that our systems are developed with the highest safety standards. We work collaboratively with policy experts, engineers, and the global community to promote safe AI practices.\n",
       "\n",
       "## Company Culture\n",
       "Our culture is defined by our commitment to global good, accountability, and collaboration. We value:\n",
       "- **Bold action** towards positive outcomes for humanity.\n",
       "- A **high-trust environment** that emphasizes kindness and direct communication.\n",
       "- A belief in a **\"race to the top\"** in AI safety, inspiring industry-wide standards.\n",
       "\n",
       "### Employee Benefits\n",
       "We offer a comprehensive benefits package to support the well-being of our team:\n",
       "- **Health & Wellness**: Comprehensive insurance, fertility benefits, generous parental leave.\n",
       "- **Compensation**: Competitive salaries with equity options, retirement plans, and life insurance.\n",
       "- **Additional Support**: Flexibility in time off, wellness stipends, and relocation assistance.\n",
       "\n",
       "## Careers at Anthropic\n",
       "Join us in shaping the future of AI! We seek passionate individuals from diverse fields. Whether your background is in machine learning, public policy, or business, there's a place for you at Anthropic. Explore open roles on our **[Careers Page](#)**.\n",
       "\n",
       "## Contact Us\n",
       "Interested in learning more about how Anthropic is leading the way in AI safety and innovation? Visit our **[website](#)** or reach out to us for further inquiries or partnership opportunities.\n",
       "\n",
       "---\n",
       "\n",
       "*Together, let's build a future where AI technology serves humanity’s best interests.*\n",
       "\n",
       "\n",
       "\n",
       "---\n",
       "\n",
       "<text>\n",
       "\n",
       "# Anthropic: Pioneros en IA Impulsada por la Seguridad\n",
       "\n",
       "## Resumen\n",
       "Anthropic es una empresa de investigación y seguridad en IA con sede en San Francisco, dedicada a construir sistemas de IA confiables, interpretables y manejables. Nuestra misión es asegurar que las tecnologías de IA se conviertan en una fuerza positivamente robusta para la humanidad, mientras entendemos y mitigamos los riesgos potenciales involucrados.\n",
       "\n",
       "## Nuestros Productos\n",
       "### Conoce a Claude\n",
       "Claude es nuestra familia de modelos de IA más representativa, diseñada para facilitar diversas aplicaciones que van desde el soporte al cliente hasta la educación. Con modelos como Claude Opus 4 y Claude Sonnet 4, proporcionamos herramientas de vanguardia orientadas a mejorar la productividad y la creatividad en numerosos sectores.\n",
       "\n",
       "### Soluciones\n",
       "- **Agentes de IA**: Automatiza tareas con agentes inteligentes.\n",
       "- **Asistencia en programación**: Simplifica la programación con nuestras herramientas de IA.\n",
       "- **Recursos educativos**: Mejora las experiencias de aprendizaje.\n",
       "\n",
       "## Compromiso con la Seguridad\n",
       "En Anthropic, tratamos la seguridad de la IA como una ciencia. Nuestra investigación diaria enfatiza la escalabilidad responsable y la transparencia, asegurando que nuestros sistemas se desarrollen con los más altos estándares de seguridad. Trabajamos de manera colaborativa con expertos en políticas, ingenieros y la comunidad global para promover prácticas de IA segura.\n",
       "\n",
       "## Cultura de la Empresa\n",
       "Nuestra cultura está definida por nuestro compromiso con el bien global, la responsabilidad y la colaboración. Valoramos:\n",
       "- **Acciones audaces** hacia resultados positivos para la humanidad.\n",
       "- Un **entorno de alta confianza** que enfatiza la amabilidad y la comunicación directa.\n",
       "- La creencia en una **“carrera hacia la cima”** en seguridad de IA, inspirando estándares en toda la industria.\n",
       "\n",
       "### Beneficios para Empleados\n",
       "Ofrecemos un paquete de beneficios integral para apoyar el bienestar de nuestro equipo:\n",
       "- **Salud y Bienestar**: Seguro comprensivo, beneficios de fertilidad, generoso permiso parental.\n",
       "- **Compensación**: Salarios competitivos con opciones de acciones, planes de jubilación y seguro de vida.\n",
       "- **Apoyo Adicional**: Flexibilidad en el tiempo libre, estipendios de bienestar y asistencia para reubicación.\n",
       "\n",
       "## Carreras en Anthropic\n",
       "¡Únete a nosotros para dar forma al futuro de la IA! Buscamos personas apasionadas de diversos campos. Ya sea que tu experiencia sea en aprendizaje automático, políticas públicas o negocios, hay un lugar para ti en Anthropic. Explora roles abiertos en nuestra **[Página de Carreras](#)**.\n",
       "\n",
       "## Contáctanos\n",
       "¿Interesado en aprender más sobre cómo Anthropic está liderando el camino en seguridad e innovación en IA? Visita nuestro **[sitio web](#)** o contáctanos para más consultas u oportunidades de asociación.\n",
       "\n",
       "---\n",
       "\n",
       "*Juntos, construyamos un futuro donde la tecnología de IA sirva a los mejores intereses de la humanidad.*\n",
       "\n",
       "</text>"
      ],
      "text/plain": [
       "<IPython.core.display.Markdown object>"
      ]
     },
     "metadata": {},
     "output_type": "display_data"
    }
   ],
   "source": [
    "result_anthropic, result_anthropic_spanish = create_brochure('Anthropic', 'https:/anthropic.com')"
   ]
  },
  {
   "cell_type": "markdown",
   "id": "b3c75992-f536-4027-b64b-6a5ed5c2459c",
   "metadata": {},
   "source": [
    "### 4 - Enable Streaming\n",
    "- return in real time, interactive"
   ]
  },
  {
   "cell_type": "code",
   "execution_count": 76,
   "id": "0cdb0150-d045-447e-9610-3dfa564cccd2",
   "metadata": {},
   "outputs": [],
   "source": [
    "def create_stream_brochure(company_name, url):\n",
    "    stream = client.responses.create(\n",
    "        model = MODEL,\n",
    "        input = [\n",
    "            {\"role\": \"system\", \"content\": system_prompt}, \n",
    "            {\"role\": \"user\", \"content\": get_brochure_user_prompt(company_name, url)}\n",
    "        ],\n",
    "        stream = True \n",
    "    ) # responses api\n",
    "\n",
    "    response = \"\"\n",
    "    display_handle = display(Markdown(\"\"), display_id = True)\n",
    "    for event in stream:\n",
    "        if event.type == 'response.output_text.delta':\n",
    "            response += event.delta\n",
    "            response = response.replace(\"```\", \"\").replace(\"markdown\", \"\")\n",
    "            # update display\n",
    "            update_display(Markdown(response), display_id = display_handle.display_id)\n",
    "\n",
    "    stream2 = client.responses.create(\n",
    "        model = MODEL,\n",
    "        input = [\n",
    "            {\"role\": \"system\", \"content\": \"You are a helpful translator. Translate the following text to Spanish. Keep Markdown format.\"}, \n",
    "            {\"role\": \"user\", \"content\": f\"<text>\\n{response}\\n</text>\"}\n",
    "        ],\n",
    "        stream = True\n",
    "    )\n",
    "\n",
    "    response += '\\n\\n---\\n\\n\\n'\n",
    "\n",
    "    for event in stream2:\n",
    "        if event.type == 'response.output_text.delta':\n",
    "            response += event.delta\n",
    "            response = response.replace(\"```\", \"\").replace(\"markdown\", \"\")\n",
    "            # update display\n",
    "            update_display(Markdown(response), display_id = display_handle.display_id)\n",
    "    return response"
   ]
  },
  {
   "cell_type": "code",
   "execution_count": 78,
   "id": "3adc3c8c-5a60-4960-8574-2c5906c73433",
   "metadata": {},
   "outputs": [
    {
     "name": "stdout",
     "output_type": "stream",
     "text": [
      "Found links: [Link(link_type='careers page', url='https://apply.workable.com/huggingface/'), Link(link_type='company page', url='https://www.linkedin.com/company/huggingface/')]\n"
     ]
    },
    {
     "data": {
      "text/markdown": [
       "# Hugging Face Brochure\n",
       "\n",
       "## About Us\n",
       "Welcome to **Hugging Face**, the AI community dedicated to building the future. Founded in 2016, we specialize in advancing machine learning, natural language processing, and deep learning technologies. With a strong focus on collaboration, innovation, and open-source software, we are creating a platform where the ML community can thrive.\n",
       "\n",
       "- **Location**: Paris, France\n",
       "- **Team Size**: 51-200 Employees\n",
       "- **Industry**: Software Development\n",
       "- **Website**: [huggingface.co](https://huggingface.co)\n",
       "\n",
       "## Our Mission\n",
       "At Hugging Face, we are on a mission to democratize artificial intelligence and make cutting-edge machine learning accessible to everyone. Our collaborative platform hosts over 1 million models and datasets, promoting knowledge sharing and co-development.\n",
       "\n",
       "## Products and Services\n",
       "### Key Offerings:\n",
       "- **Models**: Access to an unparalleled collection of over 1 million models for various applications.\n",
       "- **Datasets**: A rich repository of 250k+ datasets for any ML task.\n",
       "- **Spaces**: A platform for sharing and running ML applications seamlessly.\n",
       "- **Enterprise Solutions**: Tailored compute and data offerings for teams, with security and dedicated support.\n",
       "\n",
       "## Company Culture\n",
       "Hugging Face thrives on a culture of inclusivity, collaboration, and continuous learning. Our team members are passionate about AI and actively participate in open discussions, creative problem-solving, and community projects. We believe in empowering individuals to contribute to shared goals while fostering an environment of respect and innovation.\n",
       "\n",
       "## Our Community\n",
       "Join over **50,000 organizations**, including industry giants like Google, Amazon, and Microsoft, who are already utilizing our innovative technologies. We pride ourselves on being a hub for machine learning enthusiasts, researchers, and practitioners.\n",
       "\n",
       "## Careers at Hugging Face\n",
       "We are always looking for talented and passionate individuals to join our team. Explore our current job openings in various fields, including:\n",
       "- Machine Learning Engineers\n",
       "- Software Developers\n",
       "- Data Scientists\n",
       "- Research Engineers\n",
       "\n",
       "To apply or learn more about our open positions, visit our [Careers Page](https://huggingface.co/careers).\n",
       "\n",
       "## Join Us\n",
       "Become part of a vibrant community spearheading the future of artificial intelligence. Whether you're a researcher, developer, or an aspiring ML enthusiast, Hugging Face offers numerous ways to contribute, learn, and grow.\n",
       "\n",
       "**Together, let’s build the future of AI!**\n",
       "\n",
       "---\n",
       "\n",
       "<text>\n",
       "# Folleto de Hugging Face\n",
       "\n",
       "## Sobre Nosotros\n",
       "Bienvenido a **Hugging Face**, la comunidad de IA dedicada a construir el futuro. Fundada en 2016, nos especializamos en avanzar en tecnologías de aprendizaje automático, procesamiento de lenguaje natural y aprendizaje profundo. Con un fuerte enfoque en la colaboración, la innovación y el software de código abierto, estamos creando una plataforma donde la comunidad de ML puede prosperar.\n",
       "\n",
       "- **Ubicación**: París, Francia\n",
       "- **Tamaño del Equipo**: 51-200 Empleados\n",
       "- **Industria**: Desarrollo de Software\n",
       "- **Sitio Web**: [huggingface.co](https://huggingface.co)\n",
       "\n",
       "## Nuestra Misión\n",
       "En Hugging Face, estamos en una misión para democratizar la inteligencia artificial y hacer que el aprendizajede automático de vanguardia sea accesible para todos. Nuestra plataforma colaborativa alberga más de 1 millón de modelos y conjuntos de datos, promoviendo el intercambio de conocimientos y la co-desarrollo.\n",
       "\n",
       "## Productos y Servicios\n",
       "### Ofertas Clave:\n",
       "- **Modelos**: Acceso a una colección sin igual de más de 1 millón de modelos para diversas aplicaciones.\n",
       "- **Conjuntos de Datos**: Un rico repositorio de más de 250k conjuntos de datos para cualquier tarea de ML.\n",
       "- **Espacios**: Una plataforma para compartir y ejecutar aplicaciones de ML sin problemas.\n",
       "- **Soluciones Empresariales**: Ofertas de computación y datos personalizadas para equipos, con seguridad y soporte dedicado.\n",
       "\n",
       "## Cultura Empresarial\n",
       "Hugging Face prospera en una cultura de inclusividad, colaboración y aprendizaje continuo. Nuestros miembros del equipo son apasionados por la IA y participan activamente en discusiones abiertas, resolución creativa de problemas y proyectos comunitarios. Creemos en empoderar a los individuos para contribuir a objetivos compartidos mientras fomentamos un ambiente de respeto e innovación.\n",
       "\n",
       "## Nuestra Comunidad\n",
       "Únete a más de **50,000 organizaciones**, incluidas gigantes de la industria como Google, Amazon y Microsoft, que ya están utilizando nuestras tecnologías innovadoras. Nos enorgullece ser un centro para entusiastas, investigadores y practicantes del aprendizaje automático.\n",
       "\n",
       "## Carreras en Hugging Face\n",
       "Siempre estamos buscando individuos talentosos y apasionados para unirse a nuestro equipo. Explora nuestras vacantes actuales en diversos campos, incluyendo:\n",
       "- Ingenieros de Aprendizaje Automático\n",
       "- Desarrolladores de Software\n",
       "- Científicos de Datos\n",
       "- Ingenieros de Investigación\n",
       "\n",
       "Para postularte o aprender más sobre nuestras posiciones abiertas, visita nuestra [Página de Carreras](https://huggingface.co/careers).\n",
       "\n",
       "## Únete a Nosotros\n",
       "Conviértete en parte de una comunidad vibrante que lidera el futuro de la inteligencia artificial. Ya seas un investigador, desarrollador o un entusiasta aspirante del ML, Hugging Face ofrece numerosas formas de contribuir, aprender y crecer.\n",
       "\n",
       "**¡Juntos, construyamos el futuro de la IA!**\n",
       "</text>"
      ],
      "text/plain": [
       "<IPython.core.display.Markdown object>"
      ]
     },
     "metadata": {},
     "output_type": "display_data"
    }
   ],
   "source": [
    "res_hugginface = create_stream_brochure('Huggin Face', 'https://huggingface.co/')"
   ]
  },
  {
   "cell_type": "code",
   "execution_count": null,
   "id": "e7aea7b4-a70f-4222-b0a7-dcdcdfbe190d",
   "metadata": {},
   "outputs": [],
   "source": []
  }
 ],
 "metadata": {
  "kernelspec": {
   "display_name": "LLM-ENGR kernel",
   "language": "python",
   "name": "llm-engr"
  },
  "language_info": {
   "codemirror_mode": {
    "name": "ipython",
    "version": 3
   },
   "file_extension": ".py",
   "mimetype": "text/x-python",
   "name": "python",
   "nbconvert_exporter": "python",
   "pygments_lexer": "ipython3",
   "version": "3.11.13"
  }
 },
 "nbformat": 4,
 "nbformat_minor": 5
}
