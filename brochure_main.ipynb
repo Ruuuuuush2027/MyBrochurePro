{
 "cells": [
  {
   "cell_type": "code",
   "execution_count": 49,
   "id": "1d699c11-c0d5-4a0d-a00c-4d6499cee4fc",
   "metadata": {},
   "outputs": [],
   "source": [
    "import os\n",
    "import requests\n",
    "from dotenv import load_dotenv\n",
    "from bs4 import BeautifulSoup\n",
    "from IPython.display import Markdown, display, update_display\n",
    "from openai import OpenAI\n",
    "\n",
    "import selenium\n",
    "from selenium import webdriver\n",
    "from selenium.webdriver.chrome.options import Options as ChromeOptions\n",
    "\n",
    "import ollama\n",
    "\n",
    "from pydantic import BaseModel\n",
    "from typing import List, Tuple, Dict"
   ]
  },
  {
   "cell_type": "code",
   "execution_count": 12,
   "id": "76913c76-1c52-48c4-9ae3-85c84c1423c6",
   "metadata": {},
   "outputs": [],
   "source": [
    "load_dotenv()\n",
    "api_key = os.getenv('OPENAI_API_KEY')\n",
    "client = OpenAI(api_key = api_key)\n",
    "\n",
    "service = webdriver.ChromeService(executable_path = \"C:\\\\Program Files\\\\chromedriver-win64\\\\chromedriver.exe\")\n",
    "# so webpage won't pop up, better performance\n",
    "chrome_options = ChromeOptions()\n",
    "chrome_options.add_argument(\"--headless\")\n",
    "\n",
    "MODEL = 'gpt-4o-mini'"
   ]
  },
  {
   "cell_type": "markdown",
   "id": "262c0659-35c8-4133-be6a-29b15082d28c",
   "metadata": {},
   "source": [
    "### 1 - define website object\n",
    "- stores essential messages\n",
    "- uses selenium, also scrapes links"
   ]
  },
  {
   "cell_type": "code",
   "execution_count": 3,
   "id": "498349ae-7b6a-4d82-bb8c-b79e6832a94d",
   "metadata": {},
   "outputs": [],
   "source": [
    "class Website:\n",
    "    def __init__(self, url):\n",
    "        self.url = url\n",
    "        response = self._scrape()\n",
    "        soup = BeautifulSoup(response, 'html.parser')\n",
    "        self.title = soup.title.string if soup.title else \"No Title Found\"\n",
    "        for irrelevant in soup.body(['script', 'style', 'img', 'input']):\n",
    "            irrelevant.decompose()\n",
    "        self.text = soup.body.get_text(separator = '\\n', strip = True)\n",
    "        links = [link.get('href') for link in soup.find_all('a')]\n",
    "        self.links = [link for link in links if link and link[:4] == 'http']\n",
    "\n",
    "    def _scrape(self) -> str:\n",
    "        driver = webdriver.Chrome(service=service, options=chrome_options)\n",
    "        driver.get(self.url)\n",
    "        driver.implicitly_wait(0.001)\n",
    "        page = driver.page_source\n",
    "        driver.close()\n",
    "        return page\n",
    "\n",
    "    def get_content(self):\n",
    "        return f\"Webpage Title: \\n{self.title}\\nWebpage Contents: \\n{self.text}\\n\\n\" "
   ]
  },
  {
   "cell_type": "code",
   "execution_count": 14,
   "id": "116a9e8b-7c23-457d-8578-4f8290d980ce",
   "metadata": {},
   "outputs": [
    {
     "name": "stdout",
     "output_type": "stream",
     "text": [
      "['https://docs.pinecone.io', 'https://app.pinecone.io/?sessionType=login', 'https://app.pinecone.io/?sessionType=signup', 'https://app.pinecone.io/', 'https://docs.pinecone.io/docs/get-started/overview', 'https://docs.pinecone.io/models/overview', 'https://docs.pinecone.io/reference/architecture/serverless-architecture', 'https://docs.pinecone.io/guides/data/query-data#filter-by-metadata', 'https://docs.pinecone.io/reference/architecture/serverless-architecture', 'https://docs.pinecone.io/guides/indexes/understanding-indexes#sparse-indexes', 'https://docs.pinecone.io/guides/inference/rerank', 'https://docs.pinecone.io/guides/inference/rerank', 'https://docs.pinecone.io/guides/indexes/implement-multitenancy', 'https://docs.pinecone.io/guides/indexes/implement-multitenancy', 'https://docs.pinecone.io/integrations/overview', 'https://app.pinecone.io/', 'https://x.com/pinecone', 'https://www.linkedin.com/company/pinecone-io', 'https://www.youtube.com/@pinecone-io', 'https://github.com/pinecone-io', 'https://docs.pinecone.io/', 'https://community.pinecone.io/', 'https://status.pinecone.io/']\n"
     ]
    }
   ],
   "source": [
    "ed = Website('https://www.pinecone.io/')\n",
    "print(ed.links)"
   ]
  },
  {
   "cell_type": "markdown",
   "id": "81c55562-a805-42f5-8080-3413796dd05a",
   "metadata": {},
   "source": [
    "### 2 - gpt-4o-mini identify relevant links "
   ]
  },
  {
   "cell_type": "code",
   "execution_count": null,
   "id": "c645ffee-330b-41f0-8bd8-2979555d8b4e",
   "metadata": {},
   "outputs": [],
   "source": [
    "class Link(BaseModel):\n",
    "    link_type: str\n",
    "    url: str\n",
    "\n",
    "class Links(BaseModel):\n",
    "    links: List[Link]"
   ]
  },
  {
   "cell_type": "code",
   "execution_count": 10,
   "id": "70bae8cd-acf7-4f0e-8593-a5fc93419c91",
   "metadata": {},
   "outputs": [],
   "source": [
    "link_system_prompt = \"\"\"You are provided with a list of links found on a webpage. \n",
    "You are able to decide which of the links would be most relevant to include in a brochure about the company, \n",
    "such as links to an About page, or a Company page, or Careers/Jobs pages.\n",
    "You should respond in JSON as in this example:\n",
    "{\n",
    "    \"links\": [\n",
    "        {\"link_type\": \"about page\", \"url\": \"https://full.url/goes/here/about\"},\n",
    "        {\"link_type\": \"careers page\", \"url\": \"https://another.full.url/careers\"}\n",
    "    ]\n",
    "}\n",
    "\"\"\""
   ]
  },
  {
   "cell_type": "code",
   "execution_count": 28,
   "id": "1ff5976e-b119-4d72-bea5-dbc4fc4eb5d2",
   "metadata": {},
   "outputs": [],
   "source": [
    "def link_user_prompt(website: Website):\n",
    "    user_prompt = f\"Here is the list of links on the website of {website.url} - \"\n",
    "    user_prompt += \"please decide which of these are relevant web links for a brochure about the company, respond with the full https URL in JSON format. \\\n",
    "Do not include Terms of Service, Privacy, email links.\\n\"\n",
    "    user_prompt += \"Links (some might be relative links):\\n\"\n",
    "    user_prompt += \"\\n\".join(website.links)\n",
    "    return user_prompt\n",
    "\n",
    "def get_links(website: Website):\n",
    "    completion = client.beta.chat.completions.parse(\n",
    "        model = MODEL,\n",
    "        messages = [\n",
    "            {\"role\": \"system\", \"content\": link_system_prompt},\n",
    "            {\"role\": \"system\", \"content\": link_user_prompt(website)}\n",
    "        ], \n",
    "        response_format = Links\n",
    "    )\n",
    "    \n",
    "    response = completion.choices[0].message\n",
    "    links = response.parsed\n",
    "    return links"
   ]
  },
  {
   "cell_type": "code",
   "execution_count": 29,
   "id": "53acf10e-7538-4462-85db-afc92bf08c38",
   "metadata": {},
   "outputs": [
    {
     "name": "stdout",
     "output_type": "stream",
     "text": [
      "links=[Link(link_type='company page', url='https://www.anthropic.com/company'), Link(link_type='about page', url='https://www.anthropic.com/team'), Link(link_type='careers page', url='https://www.anthropic.com/careers'), Link(link_type='news page', url='https://www.anthropic.com/news'), Link(link_type='contact sales page', url='https://www.anthropic.com/contact-sales'), Link(link_type='events page', url='https://www.anthropic.com/events'), Link(link_type='learn page', url='https://www.anthropic.com/learn')]\n",
      "https://www.anthropic.com/company\n",
      "https://www.anthropic.com/team\n",
      "https://www.anthropic.com/careers\n",
      "https://www.anthropic.com/news\n",
      "https://www.anthropic.com/contact-sales\n",
      "https://www.anthropic.com/events\n",
      "https://www.anthropic.com/learn\n"
     ]
    }
   ],
   "source": [
    "web = Website('https:/anthropic.com')\n",
    "res = get_links(web)\n",
    "print(res)\n",
    "for link in res.links:\n",
    "    print(link.url)"
   ]
  },
  {
   "cell_type": "markdown",
   "id": "85f7449f-5aea-426e-a4df-41412cb272ec",
   "metadata": {},
   "source": [
    "### 3 - gather all details and deploy"
   ]
  },
  {
   "cell_type": "code",
   "execution_count": 35,
   "id": "287a0bcf-972a-4c06-b0b8-0925204a145e",
   "metadata": {},
   "outputs": [],
   "source": [
    "def get_web_details(url):\n",
    "    result = \"Landing page: \\n<landing_page>\\n\"\n",
    "    website = Website(url)\n",
    "    result += website.get_content()\n",
    "    result += '\\n</landing_page>'\n",
    "    links = get_links(website)\n",
    "    print(\"Found links:\", links.links)\n",
    "    for link in links.links:\n",
    "        result += f\"\\n\\n{link.link_type}: \\n<{link.link_type}>\\n\"\n",
    "        result += Website(link.url).get_content()\n",
    "        result += f\"\\n</{link.link_type}_page>\\n\"\n",
    "    return result"
   ]
  },
  {
   "cell_type": "code",
   "execution_count": 36,
   "id": "04465365-fdf4-4116-ae60-36cd84208622",
   "metadata": {},
   "outputs": [
    {
     "name": "stdout",
     "output_type": "stream",
     "text": [
      "Found links: [Link(link_type='about page', url='https://www.anthropic.com/company'), Link(link_type='careers page', url='https://www.anthropic.com/careers'), Link(link_type='team page', url='https://www.anthropic.com/team')]\n",
      "Landing page: \n",
      "<landing_page>\n",
      "Webpage Title: \n",
      "Home \\ Anthropic\n",
      "Webpage Contents: \n",
      "Skip to main conte\n"
     ]
    }
   ],
   "source": [
    "details = get_web_details('https:/anthropic.com')\n",
    "print(details[:100])"
   ]
  },
  {
   "cell_type": "code",
   "execution_count": 46,
   "id": "c2a423d3-7c3e-4d06-bc3b-bd04188ecc7a",
   "metadata": {},
   "outputs": [],
   "source": [
    "system_prompt = \"You are an assistant that analyzes the contents of several relevant pages from a company website \\\n",
    "and creates a short brochure about the company for prospective customers, investors and recruits. Respond in markdown.\\\n",
    "Include details of company culture, customers and careers/jobs if you have the information.\"\n",
    "\n",
    "def get_brochure_user_prompt(company_name, url):\n",
    "    user_prompt = f\"You are looking at a company called: {company_name}\\n\"\n",
    "    user_prompt += f\"Here are the contents of its landing page and other relevant pages; use this information to build a short brochure of the company in markdown.\\n\\n\"\n",
    "    user_prompt += get_web_details(url)\n",
    "    user_prompt = user_prompt[:20_000] # Truncate if more than 5,000 characters\n",
    "    return user_prompt\n",
    "\n",
    "# get_brochure_user_prompt('Anthropic', 'https:/anthropic.com')"
   ]
  },
  {
   "cell_type": "code",
   "execution_count": 47,
   "id": "2edb4cc4-226d-4d4a-a0a2-432bf6e33bf6",
   "metadata": {},
   "outputs": [],
   "source": [
    "def create_brochure(company_name, url):\n",
    "    response = client.chat.completions.create(\n",
    "        model = MODEL,\n",
    "        messages = [\n",
    "            {\"role\": \"system\", \"content\": system_prompt}, \n",
    "            {\"role\": \"user\", \"content\": get_brochure_user_prompt(company_name, url)}\n",
    "        ]\n",
    "    )\n",
    "    result = response.choices[0].message.content.replace(\"```\", \"\").replace(\"markdown\", \"\")\n",
    "    display(Markdown(result))\n",
    "    return result"
   ]
  },
  {
   "cell_type": "code",
   "execution_count": 48,
   "id": "e2dccecf-ddc6-4f94-8f39-2f02c32e9234",
   "metadata": {
    "scrolled": true
   },
   "outputs": [
    {
     "name": "stdout",
     "output_type": "stream",
     "text": [
      "Found links: [Link(link_type='homepage', url='https://www.anthropic.com/'), Link(link_type='about page', url='https://www.anthropic.com/company'), Link(link_type='careers page', url='https://www.anthropic.com/careers'), Link(link_type='team page', url='https://www.anthropic.com/team'), Link(link_type='research page', url='https://www.anthropic.com/research'), Link(link_type='news page', url='https://www.anthropic.com/news'), Link(link_type='events page', url='https://www.anthropic.com/events'), Link(link_type='learn page', url='https://www.anthropic.com/learn'), Link(link_type='customers page', url='https://www.anthropic.com/customers')]\n"
     ]
    },
    {
     "data": {
      "text/markdown": [
       "# Anthropic Brochure\n",
       "\n",
       "---\n",
       "\n",
       "## About Anthropic\n",
       "\n",
       "At Anthropic, we are committed to building AI systems that prioritize safety and reliability at their core. Founded on the belief that AI will significantly impact humanity, we conduct extensive research and develop solutions to harness AI's potentials while minimizing its risks. Our flagship product, **Claude**, showcases our most advanced AI models, providing businesses and society with reliable tools designed for the long-term benefit of humanity.\n",
       "\n",
       "---\n",
       "\n",
       "## Our Mission\n",
       "\n",
       "We aim to build systems that people can trust. Our focus on AI safety leads us to:\n",
       "\n",
       "- Conduct rigorous research in AI ethics and safety.\n",
       "- Develop interpretable and steerable AI systems.\n",
       "- Collaborate across industries, government, and academia to promote a safe AI ecosystem.\n",
       "\n",
       "---\n",
       "\n",
       "## Core Values\n",
       "\n",
       "1. **Act for the Global Good**: We prioritize decisions that maximize positive outcomes for humanity.\n",
       "2. **Hold Light and Shade**: Balancing the potential risks and benefits of AI is central to our approach.\n",
       "3. **Be Good to Our Users**: We define \"users\" broadly, valuing kindness and generosity in all interactions.\n",
       "4. **Ignite a Race to the Top on Safety**: We strive to set the industry standard for safety and security.\n",
       "5. **Do the Simple Thing That Works**: We embrace empirical problem-solving to maximize impact.\n",
       "6. **Be Helpful, Honest, and Harmless**: Maintaining trust and open communication is vital to our culture.\n",
       "7. **Put the Mission First**: Our shared purpose drives collaboration and swift action.\n",
       "\n",
       "---\n",
       "\n",
       "## Our Products\n",
       "\n",
       "### Claude Models\n",
       "\n",
       "- **Claude Opus 4**: Our most advanced model, designed to handle complex tasks with ease.\n",
       "- **Claude Sonnet 4**: Focusing on coding capabilities and collaboration between AI and human teams.\n",
       "- **Claude Haiku 3.5**: Effective conversational abilities for customer support and engagement.\n",
       "\n",
       "### API Services\n",
       "\n",
       "We offer robust APIs to enable you to build AI-powered applications tailored to your business needs. Our comprehensive developer documentation ensures a seamless integration process.\n",
       "\n",
       "---\n",
       "\n",
       "## Company Culture\n",
       "\n",
       "Anthropic fosters a collaborative environment where multidisciplinary teams work together. Our team includes researchers, engineers, policy experts, and operational leaders with backgrounds from various domains. We believe in nurturing our team and providing a supportive atmosphere that values open communication and continuous learning.\n",
       "\n",
       "Our **Anthropic Academy** provides resources to enhance skills in AI development, ensuring that our team and customers can stay at the forefront of technology.\n",
       "\n",
       "---\n",
       "\n",
       "## Careers at Anthropic\n",
       "\n",
       "Join us in shaping the future of safe AI! We are always on the lookout for passionate individuals who are eager to contribute to our mission. Explore our current job openings and become part of a forward-thinking company dedicated to making a positive impact in the world through AI.\n",
       "\n",
       "---\n",
       "\n",
       "## Commitment to Safety\n",
       "\n",
       "As a **Public Benefit Corporation**, Anthropic is dedicated to the responsible development of advanced AI systems. Our governance structure encourages transparency and prioritizes the long-term benefits of our technology. We are committed to sharing insights and findings related to AI safety, ensuring that we contribute to a wider understanding of the implications of AI on society.\n",
       "\n",
       "---\n",
       "\n",
       "## Get in Touch\n",
       "\n",
       "To learn more about our products or to discuss partnership opportunities, visit our website at [anthropic.com](https://www.anthropic.com). Together, we can build a future where AI serves humanity's best interests.\n",
       "\n",
       "---\n",
       "\n",
       "### Follow us on Social Media\n",
       "\n",
       "Stay updated with our news and developments by following us on our social platforms!\n",
       "\n",
       "---\n",
       "\n",
       "Thank you for considering Anthropic—where innovation meets responsibility!"
      ],
      "text/plain": [
       "<IPython.core.display.Markdown object>"
      ]
     },
     "metadata": {},
     "output_type": "display_data"
    }
   ],
   "source": [
    "result = create_brochure('Anthropic', 'https:/anthropic.com')"
   ]
  },
  {
   "cell_type": "markdown",
   "id": "b3c75992-f536-4027-b64b-6a5ed5c2459c",
   "metadata": {},
   "source": [
    "### 4 - Enable Streaming\n",
    "- return in real time, interactive"
   ]
  },
  {
   "cell_type": "code",
   "execution_count": 59,
   "id": "0cdb0150-d045-447e-9610-3dfa564cccd2",
   "metadata": {},
   "outputs": [],
   "source": [
    "def create_stream_brochure(company_name, url):\n",
    "    stream = client.responses.create(\n",
    "        model = MODEL,\n",
    "        input = [\n",
    "            {\"role\": \"system\", \"content\": system_prompt}, \n",
    "            {\"role\": \"user\", \"content\": get_brochure_user_prompt(company_name, url)}\n",
    "        ],\n",
    "        stream = True \n",
    "    ) # responses api\n",
    "\n",
    "    response = \"\"\n",
    "    display_handle = display(Markdown(\"\"), display_id = True)\n",
    "    for event in stream:\n",
    "        if event.type == 'response.output_text.delta':\n",
    "            response += event.delta\n",
    "            response = response.replace(\"```\", \"\").replace(\"markdown\", \"\")\n",
    "            # update display\n",
    "            update_display(Markdown(response), display_id = display_handle.display_id)\n",
    "    \n",
    "    return response"
   ]
  },
  {
   "cell_type": "code",
   "execution_count": 60,
   "id": "3adc3c8c-5a60-4960-8574-2c5906c73433",
   "metadata": {
    "scrolled": true
   },
   "outputs": [
    {
     "name": "stdout",
     "output_type": "stream",
     "text": [
      "Found links: [Link(link_type='company page', url='https://www.anthropic.com/company'), Link(link_type='about page', url='https://www.anthropic.com/about'), Link(link_type='careers page', url='https://www.anthropic.com/careers'), Link(link_type='team page', url='https://www.anthropic.com/team'), Link(link_type='events page', url='https://www.anthropic.com/events'), Link(link_type='news page', url='https://www.anthropic.com/news')]\n"
     ]
    },
    {
     "data": {
      "text/markdown": [
       "# Anthropic Brochure\n",
       "\n",
       "## **About Us**\n",
       "Anthropic is a pioneering AI safety and research company focused on creating reliable, interpretable, and steerable AI systems. At the forefront of AI innovation, our mission is to harness the potential of artificial intelligence for the long-term well-being of humanity. We prioritize safety as a systematic science and aim to ensure the responsible development and deployment of AI technologies.\n",
       "\n",
       "### **Our Purpose**\n",
       "We believe that AI will profoundly impact society and thus strive to build systems that prioritize safety, reliability, and understanding.\n",
       "\n",
       "## **Our Products**\n",
       "### **Claude**\n",
       "Meet **Claude**, our flagship AI model family designed to enhance workflows across various sectors, including coding, customer support, and education. With models such as **Claude Opus 4** and **Claude Sonnet 4**, we are pushing the boundaries of what AI can achieve for businesses and individuals alike.\n",
       "\n",
       "## **Customer Solutions**\n",
       "Anthropic partners with businesses and organizations to create AI-driven applications that cater to:\n",
       "- **AI agents**\n",
       "- **Customer support**\n",
       "- **Coding assistance**\n",
       "- **Educational tools**\n",
       "\n",
       "Explore our diverse offerings and discover how Claude can transform your operations.\n",
       "\n",
       "## **Company Culture**\n",
       "At Anthropic, we foster an inclusive and collaborative environment that values diverse experiences and perspectives. Our team consists of researchers, engineers, policy experts, and operational leaders dedicated to enhancing AI safety.\n",
       "\n",
       "### **Core Values**\n",
       "1. **Act for Global Good**: We prioritize decisions that maximize positive outcomes for humanity.\n",
       "2. **Hold Light and Shade**: Balancing potential risks and rewards is paramount in our mission.\n",
       "3. **Be Good to Our Users**: We cultivate kindness and generosity in all our interactions.\n",
       "4. **Ignite a Race to the Top on Safety**: We encourage a competitive standard for AI safety across the industry.\n",
       "5. **Do the Simple Thing That Works**: We favor empirical and effective solutions over complexity.\n",
       "6. **Be Helpful, Honest, and Harmless**: We foster clear communication and mutual respect.\n",
       "7. **Put the Mission First**: Our shared purpose drives collaboration and accountability.\n",
       "\n",
       "## **Careers at Anthropic**\n",
       "We are on the lookout for passionate individuals to join our diverse team as we advance the frontier of AI safety. If you're excited about shaping the future of AI and sharing our commitment to responsible development, explore our current job openings to find your place at Anthropic.\n",
       "\n",
       "### **Your Impact**\n",
       "Working at Anthropic means contributing to a crucial mission: ensuring that AI is developed and utilized responsibly for the benefit of all.\n",
       "\n",
       "---\n",
       "\n",
       "For more information on our products, career opportunities, and the latest news, please visit our website at [Anthropic.com](https://www.anthropic.com). \n",
       "\n",
       "Together, let's build a safer and more responsible AI future!"
      ],
      "text/plain": [
       "<IPython.core.display.Markdown object>"
      ]
     },
     "metadata": {},
     "output_type": "display_data"
    }
   ],
   "source": [
    "res_anthropic = create_stream_brochure('Anthropic', 'https:/anthropic.com')"
   ]
  },
  {
   "cell_type": "code",
   "execution_count": 61,
   "id": "8e9801cc-38d1-4c54-a40c-891f71286bc2",
   "metadata": {
    "scrolled": true
   },
   "outputs": [
    {
     "name": "stdout",
     "output_type": "stream",
     "text": [
      "Found links: [Link(link_type='careers page', url='https://apply.workable.com/huggingface/'), Link(link_type='company page', url='https://www.linkedin.com/company/huggingface/')]\n"
     ]
    },
    {
     "data": {
      "text/markdown": [
       "\n",
       "# Hugging Face: The AI Community Building the Future\n",
       "\n",
       "## About Us\n",
       "Hugging Face is a pioneering technology company founded in 2016, dedicated to democratizing artificial intelligence through natural language processing (NLP) and deep learning. We create a collaborative platform where developers, researchers, and organizations can connect over more than **1 million models**, **250,000 datasets**, and countless applications.\n",
       "\n",
       "### Our Mission\n",
       "To transform and democratize AI, making it accessible for everyone. We believe in open-source principles, working alongside our community to build an innovative ecosystem that promotes shared learning and collaborative growth.\n",
       "\n",
       "## Company Culture\n",
       "At Hugging Face, we foster a diverse and inclusive environment that encourages creativity and collaboration. Our team size ranges from **51 to 200** members, promoting an intimate, yet impactful workplace where everyone's ideas are valued. We believe in:\n",
       "\n",
       "- **Innovation**: Encouraging groundbreaking solutions in AI.\n",
       "- **Community Engagement**: Actively involving users in projects and developments.\n",
       "- **Continuous Learning**: Providing resources and opportunities for skill development.\n",
       "\n",
       "## Products and Services\n",
       "Hugging Face offers a suite of products and services tailored for various machine learning needs:\n",
       "\n",
       "- **Hugging Face Hub**: Host and collaborate on unlimited public models and datasets.\n",
       "- **Compute Solutions**: Provide enterprise-grade security and support for advanced AI applications.\n",
       "- **Transformers Library**: A state-of-the-art library that integrates seamlessly with PyTorch, TensorFlow, and JAX.\n",
       "\n",
       "### Notable Features\n",
       "- **Spaces**: Create and share interactive ML applications.\n",
       "- **Accelerate**: Optimize model training for multi-GPU and TPU use.\n",
       "\n",
       "## Who We Serve\n",
       "Over **50,000 organizations** globally trust and utilize Hugging Face's resources, including major players like:\n",
       "\n",
       "- **Amazon**\n",
       "- **Google**\n",
       "- **Meta**\n",
       "- **Microsoft**\n",
       "\n",
       "This collaboration with industry leaders fosters a vibrant community focused on pushing the boundaries of machine learning.\n",
       "\n",
       "## Careers at Hugging Face\n",
       "We're always on the lookout for passionate individuals who share our vision. We offer roles in various areas, from engineering and data science to product management and community leadership. Join our team to help shape the future of AI.\n",
       "\n",
       "### Current Openings\n",
       "Explore various job opportunities that align with your skills and interests on our [Careers Page](https://huggingface.co/jobs).\n",
       "\n",
       "## Join Us\n",
       "Interested in becoming part of our exciting journey to democratize AI? Sign up today or reach out for collaboration opportunities!\n",
       "\n",
       "[Visit Our Website](https://huggingface.co) | [Join the Community](https://huggingface.co/community)\n",
       "\n",
       "---\n",
       "\n",
       "Together, let’s build the future of AI!\n"
      ],
      "text/plain": [
       "<IPython.core.display.Markdown object>"
      ]
     },
     "metadata": {},
     "output_type": "display_data"
    }
   ],
   "source": [
    "res_hugginface = create_stream_brochure('Huggin Face', 'https://huggingface.co/')"
   ]
  },
  {
   "cell_type": "code",
   "execution_count": null,
   "id": "e7aea7b4-a70f-4222-b0a7-dcdcdfbe190d",
   "metadata": {},
   "outputs": [],
   "source": []
  }
 ],
 "metadata": {
  "kernelspec": {
   "display_name": "LLM-ENGR kernel",
   "language": "python",
   "name": "llm-engr"
  },
  "language_info": {
   "codemirror_mode": {
    "name": "ipython",
    "version": 3
   },
   "file_extension": ".py",
   "mimetype": "text/x-python",
   "name": "python",
   "nbconvert_exporter": "python",
   "pygments_lexer": "ipython3",
   "version": "3.11.13"
  }
 },
 "nbformat": 4,
 "nbformat_minor": 5
}
