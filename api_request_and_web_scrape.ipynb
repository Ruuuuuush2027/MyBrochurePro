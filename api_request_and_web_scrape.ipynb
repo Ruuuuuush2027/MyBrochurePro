{
 "cells": [
  {
   "cell_type": "code",
   "execution_count": 1,
   "id": "8a3b4eba-e3f1-44b9-8b74-49f1243d17be",
   "metadata": {},
   "outputs": [],
   "source": [
    "import os\n",
    "import requests\n",
    "from dotenv import load_dotenv\n",
    "from bs4 import BeautifulSoup\n",
    "from IPython.display import Markdown, display\n",
    "from openai import OpenAI\n",
    "\n",
    "import selenium\n",
    "from selenium import webdriver\n",
    "from selenium.webdriver.chrome.options import Options as ChromeOptions"
   ]
  },
  {
   "cell_type": "code",
   "execution_count": 2,
   "id": "79bb1d9a-0586-4dfd-bc1e-30ff7cc34477",
   "metadata": {},
   "outputs": [],
   "source": [
    "load_dotenv()\n",
    "api_key = os.getenv('OPENAI_API_KEY')\n",
    "client = OpenAI(api_key = api_key)\n",
    "\n",
    "service = webdriver.ChromeService(executable_path = \"C:\\\\Program Files\\\\chromedriver-win64\\\\chromedriver.exe\")\n",
    "# so webpage won't pop up, better performance\n",
    "chrome_options = ChromeOptions()\n",
    "chrome_options.add_argument(\"--headless\")"
   ]
  },
  {
   "cell_type": "markdown",
   "id": "d5b1c7b9-da6a-45f5-b6db-23dad03a59e7",
   "metadata": {},
   "source": [
    "### 1 - define website object\n",
    "- stores essential messages\n",
    "- use Selenium and chrome webdriver, so can parse JavaScript dynamic page, instead of using get request\n",
    "    - use `chrome://version/`\n",
    "    - download corresponding version driver from `https://googlechromelabs.github.io/chrome-for-testing/`\n",
    "    - chrome_options for headless"
   ]
  },
  {
   "cell_type": "code",
   "execution_count": 3,
   "id": "a7945a63-5a4c-445b-aae6-83637204b937",
   "metadata": {},
   "outputs": [],
   "source": [
    "class Website:\n",
    "    def __init__(self, url):\n",
    "        self.url = url\n",
    "        response = self._scrape()\n",
    "        soup = BeautifulSoup(response, 'html.parser')\n",
    "        self.title = soup.title.string if soup.title else \"No Title Found\"\n",
    "        for irrelevant in soup.body(['script', 'style', 'img', 'input']):\n",
    "            irrelevant.decompose()\n",
    "        self.text = soup.body.get_text(separator = '\\n', strip = True)\n",
    "\n",
    "    def _scrape(self) -> str:\n",
    "        driver = webdriver.Chrome(service=service, options=chrome_options)\n",
    "        driver.get(self.url)\n",
    "        driver.implicitly_wait(0.00001)\n",
    "        page = driver.page_source\n",
    "        driver.close()\n",
    "        return page"
   ]
  },
  {
   "cell_type": "code",
   "execution_count": 4,
   "id": "e9954692-13be-4bac-b079-e8fc7f2f06c3",
   "metadata": {},
   "outputs": [
    {
     "name": "stdout",
     "output_type": "stream",
     "text": [
      "===TITLE===\n",
      " Energy Efficient Secure Sustainable Computing Group\n",
      "===TEXT===\n",
      " Log In\n",
      "Search\n",
      "Skip to content\n",
      "Show search field\n",
      "Search\n",
      "Energy Efficient Secure Sustainable Computing Group\n",
      "open menu\n",
      "Home\n",
      "Research Areas\n",
      "open dropdown menu\n",
      "Machine Learning Algorithm & Hardware Co-design\n",
      "Hardware Security\n",
      "Superconducting Electronics\n",
      "Asynchronous VLSI\n",
      "Interdisciplinary Research\n",
      "People\n",
      "Prospective Students\n",
      "Recent Publications\n",
      "Welcome to the Lab!\n",
      "The E\n",
      "2\n",
      "S\n",
      "2\n",
      "C group, led by Professor Peter A. Beerel, has active research efforts spanning circuits, micro-architecture, and algorithms that target a variety of emerging areas in energy-efficient, secure, and sustainable computing. The group is guided by academic curiosity, integrity, and the spirit of collaboration to solve real-world problems using the wide array of mathematics that make up the foundation of Electrical and Computer Engineering.\n",
      "The group’s current research projects include topics in machine-learning algorithm hardware co-design, superconducting electronics, hardware security, and asynchronous VLSI design. The group is also collaborating on multidisciplinary problems including various aspects of mitigating wildfires and enhancing robotics. The group is always searching for potential postdocs, new PhD students, as well as strong master’s students to perform directed research.\n",
      "Energy Efficient Secure Sustainable Computing Group\n",
      "Unlimited WordPress Theme\n",
      "by Compete Themes\n",
      "University of Southern California Logo\n",
      "University of Southern California\n",
      "Privacy Notice\n",
      "Notice of Non-Discrimination\n",
      "Digital Accessibility\n"
     ]
    }
   ],
   "source": [
    "ed = Website('https://sites.usc.edu/eessc/')\n",
    "print('===TITLE===\\n', ed.title)\n",
    "print('===TEXT===\\n', ed.text)"
   ]
  },
  {
   "cell_type": "markdown",
   "id": "6bab6fc3-3cb6-4c4d-9ac2-9909bfb3db77",
   "metadata": {},
   "source": [
    "### 2 - Calling Summary API\n",
    "- message format: \\[{\"role\": \"system\", \"content\": \"system\"}, {\"role\": \"user\", \"content\": \"user_message\"}\\]"
   ]
  },
  {
   "cell_type": "code",
   "execution_count": 5,
   "id": "238134cc-d780-4f36-8a5d-24497f58ea6d",
   "metadata": {},
   "outputs": [],
   "source": [
    "system_prompt = \"You are an assistant that analyzes the contents of a website \\\n",
    "and provides a short summary, ignoring text that might be navigation related. \\\n",
    "Respond in markdown.\"\n",
    "\n",
    "def create_user_prompt(website: Website):\n",
    "    user_prompt = f\"You are looking at a website titled {website.title}\"\n",
    "    user_prompt += \"\\nFor the following website content, \\\n",
    "please provide a short summary of this website in markdown. \\\n",
    "If it includes news or announcements, then summarize these too.\\n\\\n",
    "Here is the website: \\n<website>\"\n",
    "    user_prompt += website.text + \"\\n</website>\"\n",
    "    return user_prompt"
   ]
  },
  {
   "cell_type": "code",
   "execution_count": 6,
   "id": "c375a147-2741-431f-b43b-c5f0313ecd1a",
   "metadata": {
    "scrolled": true
   },
   "outputs": [
    {
     "name": "stdout",
     "output_type": "stream",
     "text": [
      "You are looking at a website titled Energy Efficient Secure Sustainable Computing Group\n",
      "For the following website content, please provide a short summary of this website in markdown. If it includes news or announcements, then summarize these too.\n",
      "Here is the website: \n",
      "<website>Log In\n",
      "Search\n",
      "Skip to content\n",
      "Show search field\n",
      "Search\n",
      "Energy Efficient Secure Sustainable Computing Group\n",
      "open menu\n",
      "Home\n",
      "Research Areas\n",
      "open dropdown menu\n",
      "Machine Learning Algorithm & Hardware Co-design\n",
      "Hardware Security\n",
      "Superconducting Electronics\n",
      "Asynchronous VLSI\n",
      "Interdisciplinary Research\n",
      "People\n",
      "Prospective Students\n",
      "Recent Publications\n",
      "Welcome to the Lab!\n",
      "The E\n",
      "2\n",
      "S\n",
      "2\n",
      "C group, led by Professor Peter A. Beerel, has active research efforts spanning circuits, micro-architecture, and algorithms that target a variety of emerging areas in energy-efficient, secure, and sustainable computing. The group is guided by academic curiosity, integrity, and the spirit of collaboration to solve real-world problems using the wide array of mathematics that make up the foundation of Electrical and Computer Engineering.\n",
      "The group’s current research projects include topics in machine-learning algorithm hardware co-design, superconducting electronics, hardware security, and asynchronous VLSI design. The group is also collaborating on multidisciplinary problems including various aspects of mitigating wildfires and enhancing robotics. The group is always searching for potential postdocs, new PhD students, as well as strong master’s students to perform directed research.\n",
      "Energy Efficient Secure Sustainable Computing Group\n",
      "Unlimited WordPress Theme\n",
      "by Compete Themes\n",
      "University of Southern California Logo\n",
      "University of Southern California\n",
      "Privacy Notice\n",
      "Notice of Non-Discrimination\n",
      "Digital Accessibility\n",
      "</website>\n"
     ]
    }
   ],
   "source": [
    "print(create_user_prompt(ed))"
   ]
  },
  {
   "cell_type": "code",
   "execution_count": 7,
   "id": "ecefd51b-0f2a-46c6-858c-0c8ca9a01036",
   "metadata": {},
   "outputs": [],
   "source": [
    "def summarize(url, system_prompt = system_prompt):\n",
    "    website = Website(url)\n",
    "    user_prompt = create_user_prompt(website)\n",
    "    response = client.chat.completions.create(\n",
    "        model = \"gpt-4o-mini\",\n",
    "        messages = [{\"role\": \"system\", \"content\": system_prompt}, \n",
    "                    {\"role\": \"user\", \"content\": user_prompt}]\n",
    "    )\n",
    "    return response.choices[0].message.content"
   ]
  },
  {
   "cell_type": "code",
   "execution_count": 8,
   "id": "d22199ea-346f-4440-aee9-516f66484caf",
   "metadata": {
    "scrolled": true
   },
   "outputs": [
    {
     "name": "stdout",
     "output_type": "stream",
     "text": [
      "# Summary of CNN Website Content\n",
      "\n",
      "CNN provides a comprehensive news platform covering a variety of topics including:\n",
      "\n",
      "- **US and World News**: Updates on current events such as immigration raids in Southern California and discussions on political figures like Trump, who is facing scrutiny for his recent flood response.\n",
      "- **Political Insights**: Analysis of ongoing political tensions, including controversies surrounding Forex and tariffs, notably Trump’s threats of tariffs on Canada and Brazil.\n",
      "- **Health**: Articles discussing recent health trends such as mouth taping and legislative movements around menopause care, highlighting various ongoing health issues and recommendations.\n",
      "- **Entertainment and Culture**: Coverage on upcoming events, celebrity news, and cultural phenomena, including highlights from major sporting events and films, with mentions of celebrity releases and cultural commentary.\n",
      "- **Market News**: Updates on stock market performances, particularly in relation to tech companies and economic forecasts.\n",
      "- **Climate and Science**: Discussion on climate issues, including articles focused on environmental impacts and scientific discoveries.\n",
      "\n",
      "Additional features include **live updates**, video content, podcasts, and multimedia storytelling, along with specialized content for subscribers, including polls and investigative reports. The website promotes user engagement through newsletters and topic selections to tailor the news experience. \n",
      "\n",
      "The information reflects CNN's position as a leading news source, constantly updating with the latest stories from diverse sectors.\n"
     ]
    }
   ],
   "source": [
    "response_msg = summarize('https://cnn.com')\n",
    "print(response_msg)"
   ]
  },
  {
   "cell_type": "code",
   "execution_count": null,
   "id": "8368e754-e941-45b8-aaf8-15df0586691d",
   "metadata": {},
   "outputs": [],
   "source": []
  }
 ],
 "metadata": {
  "kernelspec": {
   "display_name": "LLM-ENGR kernel",
   "language": "python",
   "name": "llm-engr"
  },
  "language_info": {
   "codemirror_mode": {
    "name": "ipython",
    "version": 3
   },
   "file_extension": ".py",
   "mimetype": "text/x-python",
   "name": "python",
   "nbconvert_exporter": "python",
   "pygments_lexer": "ipython3",
   "version": "3.11.13"
  }
 },
 "nbformat": 4,
 "nbformat_minor": 5
}
