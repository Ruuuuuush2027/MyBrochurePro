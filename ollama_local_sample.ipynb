{
 "cells": [
  {
   "cell_type": "code",
   "execution_count": 5,
   "id": "f29000fe-60da-4ce0-808f-f31c3a3388c8",
   "metadata": {},
   "outputs": [],
   "source": [
    "import requests\n",
    "from bs4 import BeautifulSoup\n",
    "\n",
    "import ollama"
   ]
  },
  {
   "cell_type": "markdown",
   "id": "15190556-9763-456e-b574-c37b5df5b62a",
   "metadata": {},
   "source": [
    "### 1 - Behind the Scene: Hard Code Send request\n",
    "- simply send a request using api, specify model using `ollama list`\n",
    "- `ollama serve` to start serving; then one can send post requests\n",
    "- for WSL, automatic forwarding is used\n",
    "- uses llama3.2 model"
   ]
  },
  {
   "cell_type": "code",
   "execution_count": 12,
   "id": "cbffc107-f081-4f7b-b083-f412f8d536bb",
   "metadata": {},
   "outputs": [],
   "source": [
    "OLLAMA_API = 'http://localhost:11434/api/chat'\n",
    "HEADERS = {\"Content-Type\": \"application/json\"}\n",
    "MODEL = 'llama3.2:latest'"
   ]
  },
  {
   "cell_type": "code",
   "execution_count": 3,
   "id": "ccdbfbdb-bac6-4d56-8261-884e7040d8ce",
   "metadata": {},
   "outputs": [],
   "source": [
    "messages = [{\"role\": \"user\", \"content\": \"Describe some of business applications of Gen AI\"}]\n",
    "\n",
    "payload = {\n",
    "    \"model\": MODEL,\n",
    "    \"messages\": messages,\n",
    "    \"stream\": False\n",
    "}"
   ]
  },
  {
   "cell_type": "code",
   "execution_count": 4,
   "id": "f3a0bc73-b648-47d7-bd76-2a864c1161b4",
   "metadata": {},
   "outputs": [
    {
     "name": "stdout",
     "output_type": "stream",
     "text": [
      "Artificial Intelligence (AI) is transforming the way businesses operate, making them more efficient, productive, and competitive. Here are some business applications of General Artificial Intelligence (Gen AI):\n",
      "\n",
      "1. **Virtual Assistants**: Gen AI-powered virtual assistants can automate routine tasks, provide personalized recommendations, and offer 24/7 customer support, freeing up human resources for strategic decision-making.\n",
      "2. **Predictive Maintenance**: Gen AI algorithms can analyze sensor data from equipment to predict when maintenance is required, reducing downtime and increasing overall equipment effectiveness (OEE).\n",
      "3. **Supply Chain Optimization**: Gen AI can optimize supply chain operations by predicting demand, managing inventory, and identifying potential bottlenecks, leading to faster delivery times and reduced costs.\n",
      "4. **Chatbots and Conversational Interfaces**: Gen AI-powered chatbots can provide customers with a seamless and personalized experience, answering questions, resolving issues, and even closing deals.\n",
      "5. **Content Generation**: Gen AI can generate high-quality content, such as articles, social media posts, and product descriptions, saving time and resources for content creation teams.\n",
      "6. **Data Analysis and Insights**: Gen AI algorithms can analyze large datasets to identify patterns, trends, and insights that inform business decisions, such as market analysis, customer segmentation, and sales forecasting.\n",
      "7. **Risk Management**: Gen AI can help businesses identify potential risks and vulnerabilities by analyzing complex data sets, providing early warnings of potential threats and enabling proactive risk mitigation strategies.\n",
      "8. **Customer Segmentation**: Gen AI can analyze customer data to identify patterns and preferences, allowing businesses to tailor their marketing efforts, improve customer engagement, and increase revenue.\n",
      "9. **Cybersecurity**: Gen AI-powered systems can detect and respond to cyber threats in real-time, protecting sensitive data and preventing breaches.\n",
      "10. **Autonomous Vehicles**: Gen AI is being used to develop autonomous vehicles that can navigate complex environments, reduce accidents, and improve transportation efficiency.\n",
      "11. **Robotics Process Automation (RPA)**: Gen AI can automate repetitive and mundane tasks performed by humans, freeing up resources for strategic decision-making and innovation.\n",
      "12. **Sales and Marketing Automation**: Gen AI-powered systems can analyze sales data to predict customer behavior, personalize marketing messages, and optimize sales strategies.\n",
      "\n",
      "These are just a few examples of the many business applications of General Artificial Intelligence. As Gen AI continues to evolve, we can expect even more innovative uses cases to emerge in various industries.\n"
     ]
    }
   ],
   "source": [
    "response = requests.post(OLLAMA_API, json = payload, headers = HEADERS)\n",
    "print(response.json()['message']['content'])"
   ]
  },
  {
   "cell_type": "markdown",
   "id": "7e80c519-2297-48d7-a6e8-e2f401373701",
   "metadata": {},
   "source": [
    "### 2 - Ollama library\n",
    "- same as module 1, but ollama simplified in library"
   ]
  },
  {
   "cell_type": "code",
   "execution_count": 13,
   "id": "efa65b1f-5b50-4e3c-9a08-5535ebab6762",
   "metadata": {},
   "outputs": [],
   "source": [
    "OLLAMA_URL = 'http://localhost:11434'"
   ]
  },
  {
   "cell_type": "code",
   "execution_count": 11,
   "id": "0394c5c0-e55f-4002-a12f-309ddd083be5",
   "metadata": {},
   "outputs": [
    {
     "name": "stdout",
     "output_type": "stream",
     "text": [
      "Genetic AI, also known as genetic programming or evolutionary algorithms, has various business applications across different industries. Here are some examples:\n",
      "\n",
      "1. **Design Optimization**: Genetic AI can be used to optimize complex systems, such as product designs, logistics routes, and supply chain networks. By iteratively generating and evaluating candidate solutions, Gen AI can help businesses find better-performing designs that meet specific criteria.\n",
      "2. **Predictive Maintenance**: Genetic AI can analyze historical data from sensors and machinery to predict when maintenance is required, reducing downtime and increasing overall equipment effectiveness (OEE).\n",
      "3. **Supply Chain Optimization**: Gen AI can optimize supply chain networks by identifying the most efficient routes for goods transportation, managing inventory levels, and predicting demand fluctuations.\n",
      "4. **Risk Management**: Genetic AI can analyze large datasets to identify potential risks and opportunities, helping businesses make informed decisions about investments, mergers, and acquisitions.\n",
      "5. **Marketing Strategy Optimization**: Gen AI can optimize marketing campaigns by analyzing customer data, identifying patterns, and suggesting the most effective messaging strategies.\n",
      "6. **Financial Analysis**: Genetic AI can analyze financial data to identify trends, predict market movements, and recommend investment opportunities.\n",
      "7. **Product Development**: Gen AI can be used to develop new products or improve existing ones by generating and evaluating candidate designs, materials, and production processes.\n",
      "8. **Quality Control**: Genetic AI can optimize quality control processes by identifying the most effective quality standards, inspection procedures, and testing protocols.\n",
      "9. **Cybersecurity**: Gen AI can analyze network traffic patterns and identify potential vulnerabilities, helping businesses strengthen their cybersecurity posture.\n",
      "10. **Research and Development**: Genetic AI can aid in research and development by generating new hypotheses, predicting outcomes, and optimizing experimental designs.\n",
      "\n",
      "Industries that are likely to benefit from Gen AI applications include:\n",
      "\n",
      "1. Manufacturing\n",
      "2. Logistics and Transportation\n",
      "3. Finance and Banking\n",
      "4. Healthcare\n",
      "5. Energy and Utilities\n",
      "6. Retail and E-commerce\n",
      "7. Automotive\n",
      "8. Aerospace and Defense\n",
      "9. Cybersecurity\n",
      "10. Research and Development\n",
      "\n",
      "Genetic AI has the potential to transform various business functions, leading to increased efficiency, reduced costs, and improved decision-making capabilities.\n"
     ]
    }
   ],
   "source": [
    "client = ollama.Client(host=OLLAMA_URL)\n",
    "\n",
    "response = client.chat(model = MODEL, messages = messages)\n",
    "\n",
    "print(response['message']['content'])"
   ]
  }
 ],
 "metadata": {
  "kernelspec": {
   "display_name": "LLM-ENGR kernel",
   "language": "python",
   "name": "llm-engr"
  },
  "language_info": {
   "codemirror_mode": {
    "name": "ipython",
    "version": 3
   },
   "file_extension": ".py",
   "mimetype": "text/x-python",
   "name": "python",
   "nbconvert_exporter": "python",
   "pygments_lexer": "ipython3",
   "version": "3.11.13"
  }
 },
 "nbformat": 4,
 "nbformat_minor": 5
}
